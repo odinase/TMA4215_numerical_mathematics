{
 "cells": [
  {
   "cell_type": "markdown",
   "metadata": {},
   "source": [
    "# TMA4215 - Project 1"
   ]
  },
  {
   "cell_type": "markdown",
   "metadata": {},
   "source": [
    "* This is an individual project, i.e. each student submits his/her own Python notebook.\n",
    "* The project is due on Friday September 11th at 24.00 (midnight).\n",
    "* The notebook with the answers should be uploaded in Inspera. \n",
    "* The project is obligatory and counts 10% on the final grade\n",
    "\n",
    "### Problem 1\n",
    "In the lectures, you learned about normal matrices, those which have a diagonalization of the form\n",
    "\n",
    "$$\n",
    "     A = U\\Lambda U^H\n",
    "$$\n",
    "\n",
    "where $\\Lambda$ is a diagonal complex $n\\times n$-matrix and $U$ is a unitary (complex) matrix such that $U^H U=I$\n",
    "(recall that $U^H$ is the complex conjugate of $U^T$).\n",
    "\n",
    "Show that for any such matrix, one has $\\|A\\|_2=\\rho(A)$ (where $\\rho(A)$ is the spectral radius of $A$)."
   ]
  },
  {
   "cell_type": "markdown",
   "metadata": {},
   "source": [
    "---\n",
    "We have that $\\|A\\|_2=\\sigma_{\\max}(A)$ and $\\rho(A) = \\max\\{|\\lambda_1|,\\dots,|\\lambda_n|\\}$ for $A\\in\\mathbb{R}^{n\\times n}$.\n",
    "\n",
    "The maximum singular value is computed as\n",
    "\n",
    "\\begin{align}\n",
    "\\sigma_{\\max}(A) &= \\sqrt{\\lambda_{\\max}(A^HA)} \\\\\n",
    " &= \\sqrt{\\lambda_{\\max}(A^HA)} \\\\\n",
    " &= \\sqrt{\\lambda_{\\max}(U\\Lambda^HU^HU\\Lambda U^H)} \\\\\n",
    " &= \\sqrt{\\lambda_{\\max}(U\\Lambda^H\\Lambda U^H)}.\n",
    "\\end{align}\n",
    "The matrix $U\\Lambda^H\\Lambda U^H$ is a diagonalized matrix with diagonal matrix $\\Lambda^H\\Lambda$ as it is the product of two diagonal matrices. Its diagonal is the element-wise multiplication of the corresponding diagonal elements of $\\Lambda$ and $\\Lambda^H$, and as such, it looks like\n",
    "\\begin{equation}\n",
    "\\Lambda^H\\Lambda = \\left[\n",
    "\\begin{array}{cccc}\n",
    "|\\lambda_1|^2 & 0 & \\ldots & 0 \\\\\n",
    "0 & |\\lambda_2|^2 & \\ldots & \\vdots \\\\\n",
    "\\vdots & \\ddots &\\ddots & \\vdots \\\\\n",
    "0 & \\ldots& 0 & |\\lambda_n|^2 \n",
    "\\end{array}\n",
    "\\right]\n",
    "\\end{equation}\n",
    "\n",
    "Thus, $\\sqrt{\\lambda_{\\max}(A^HA)}=\\sqrt{\\max\\{|\\lambda_1|^2,\\dots,|\\lambda_n|^2\\}}=\\sigma_{\\max}(A)=\\rho(A)$."
   ]
  },
  {
   "cell_type": "markdown",
   "metadata": {},
   "source": [
    "---\n",
    "###  Problem 2\n",
    "Consider the $n\\times n$ matrix $A$ whose nonzero elements are located on its unit subdiagonal, i.e. $A_{i+1,i}=1$, $i=1,\\ldots,n-1$.\n",
    "\n",
    "$$\n",
    "A = \\left[\n",
    "\\begin{array}{rrrr}\n",
    "0 & \\ldots & \\ldots &  0 \\\\\n",
    "1 & 0 &   & \\vdots \\\\\n",
    "\\vdots & \\ddots &\\ddots & \\vdots \\\\\n",
    "0 & \\ldots& 1 & 0 & \n",
    "\\end{array}\n",
    "\\right]\n",
    "$$\n",
    "\n",
    "**(a)** What are the eigenvalues of $A$? What would the Gershgorin theorem tell us about the location of the eigenvalues of $A$?"
   ]
  },
  {
   "cell_type": "markdown",
   "metadata": {},
   "source": [
    "---\n",
    "This is a lower triangular matrix, so its eigenvalues are equal to its diagonal elements. Thus, all eigenvalues of A are 0.\n",
    "\n",
    "Gershgorin's theorem tells that all eigenvalues of A must at least be inside the unit circle in the complex plane, as the origin of all discs is 0 and the radius is 1 or 0.\n"
   ]
  },
  {
   "cell_type": "markdown",
   "metadata": {},
   "source": [
    "---\n",
    "**(b)** Now construct the matrix $\\hat{A}$ by adding a small number $\\varepsilon$ in the $(1,n)$-element of A (so that $\\hat{A}=A+ \\varepsilon\\, e_1e_n^T$).\n",
    "Show that \n",
    "\n",
    "$$\n",
    "\\rho(\\hat{A}) = \\varepsilon^{1/n}\n",
    "$$\n",
    "\n",
    "and find an expression for the eigenvalues and eigenvectors of $\\hat{A}$."
   ]
  },
  {
   "cell_type": "markdown",
   "metadata": {},
   "source": [
    "---\n",
    "$\\hat{A}$ takes the form\n",
    "$$\n",
    "\\hat{A} = \\left[\n",
    "\\begin{array}{rrrr}\n",
    "0 & \\ldots & \\ldots &  \\varepsilon \\\\\n",
    "1 & 0 &   & \\vdots \\\\\n",
    "\\vdots & \\ddots &\\ddots & \\vdots \\\\\n",
    "0 & \\ldots& 1 & 0\n",
    "\\end{array}\n",
    "\\right].\n",
    "$$\n",
    "Computing the characteristic polynomial gives\n",
    "\\begin{align}\n",
    "|\\lambda I - \\hat{A}| = \\begin{vmatrix}\n",
    "\\lambda & \\ldots & \\ldots &  -\\varepsilon \\\\\n",
    "-1 & \\lambda & \\vdots \\\\\n",
    "\\vdots & \\ddots &\\ddots & \\vdots \\\\\n",
    "0 & \\ldots& -1 & \\lambda\n",
    "\\end{vmatrix}\n",
    "&= \\lambda\\begin{vmatrix}\n",
    "\\lambda & \\vdots \\\\\n",
    "\\ddots &\\ddots & \\vdots \\\\\n",
    "\\ldots& -1 & \\lambda\n",
    "\\end{vmatrix} + (-1)^{n-1}(-\\varepsilon)\\begin{vmatrix}\n",
    "-1 & \\lambda & \\vdots \\\\\n",
    "\\vdots & \\ddots &\\ddots \\\\\n",
    "0 & \\ldots& -1\n",
    "\\end{vmatrix} \\\\ \n",
    "&= \\lambda^n + (-1)^{n-1}(-\\varepsilon)(-1)^{n-1} \\\\\n",
    "&= \\lambda^n + (-1)^{\\overbrace{n-1+1+n-1}^{\\mathrm{odd}}}\\varepsilon \\\\\n",
    "&= \\lambda^n -\\varepsilon \\\\\n",
    "&= 0.\n",
    "\\end{align}\n",
    "This implies that \n",
    "\\begin{equation}\n",
    "|\\lambda_i| = \\varepsilon^{1/n},\\quad i = 1,\\dots,n\n",
    "\\end{equation}\n",
    "so $\\rho(\\hat{A})=\\varepsilon^{1/n}$, as all eigenvalues have the same magnitude and are equally distributed on a circle in the complex plane with radius $\\varepsilon^{1/n}$. That is,\n",
    "\\begin{equation}\n",
    "\\lambda_k = \\varepsilon^{1/n}e^{\\frac{2\\pi ik}{n}},\\quad k=0,1,\\dots,n-1.\n",
    "\\end{equation}\n",
    "\n",
    "The eigenvectors can be retrived by backward substitution. Solving\n",
    "\\begin{equation}\n",
    "\\left(\\lambda I-\\hat{A}\\right)x = 0\n",
    "\\end{equation}\n",
    "gives the system of equations\n",
    "\\begin{align}\n",
    "\\lambda x_1 - \\varepsilon x_n &= 0, \\\\\n",
    "-x_1 + \\lambda x_2 &= 0, \\\\\n",
    "\\vdots& \\\\\n",
    "-x_{n-1} + \\lambda x_n &= 0.\n",
    "\\end{align}\n",
    "The last equation has solution\n",
    "\\begin{equation}\n",
    "x_{n-1} = \\lambda x_n\n",
    "\\end{equation}\n",
    "which when backwards substituted gives\n",
    "\\begin{equation}\n",
    "\n",
    "\\end{equation}"
   ]
  },
  {
   "cell_type": "markdown",
   "metadata": {},
   "source": [
    "---\n",
    "**(c)** Derive an exact expression for the condition number $K_2(\\hat{A})=\\|\\hat{A}\\|_2\\cdot\\|\\hat{A}^{-1}\\|_2$\n",
    "\n",
    "[//]: # \"**(d)** Write a Python programme to investigate the situation as follows. Let $b=[1,\\ldots,1]^T$.\" "
   ]
  },
  {
   "cell_type": "markdown",
   "metadata": {},
   "source": []
  },
  {
   "cell_type": "markdown",
   "metadata": {},
   "source": [
    "###  Problem 3\n",
    "The Hilbert matrix is a classical example of an ill-conditioned matrix. For an $n\\times n$-matrix it is\n",
    "defined as the matrix with $ij$-element\n",
    "$\n",
    "\\frac{1}{i+j-1}\n",
    "$\n",
    "\n",
    "**(a)**\n",
    "For $n=2,\\ldots,13$ find the $n\\times n$ Hilbert matrix $H_n$ and compute the condition number $K_2(H_n)$ in Python. You can either write a function yourself for setting up $H_n$, or you can use scipy.linalg.hilbert().\n",
    "To compute the condition number you can use numpy.linalg.cond. Display/plot the result in a way that best shows the growth rate of the condition number as a function of the dimension $n$.\n",
    "\n",
    "**(b)** Illustrate the meaning of condition numbers as follows: For a range of small perturbations $\\delta H_n$ and\n",
    "$\\delta b$, solve the problems $(H_n+\\delta H_n)(x+\\delta x) = b+\\delta b$ where $b=[1,\\ldots,1]^T$ (the $n$-vector of ones). In each case, compare to the solution of $H_n x = b$ and calculate\n",
    "\n",
    "$$\n",
    "     \\frac{\\frac{\\|\\delta x\\|}{\\|x\\|}}{\\frac{\\|\\delta H_n\\|}{\\|H_n\\|}+\\frac{\\|\\delta b\\|}{\\|b\\|}}.\n",
    "$$\n",
    "\n",
    "One way of generating random arrays (matrices and vectors) is to use numpy.random.rand(j,k). This generates a $j \\times k$ array, where each entry is a random number in the range $[0,1).$ Remember however that the smallest entry in $H_n$ is $\\tfrac{1}{2n+1}$ so yopu have to make sure that the matrix entries in $\\delta H_n$ are small enough to consider $\\delta H_n$ a small perturbation.\n",
    "\n",
    "### Problem X\n",
    "This problem is not so easy, but needs to be answered in order to get the top score. You can get a good score also without solving this problem completely, and you can always ask for hints from the teaching assistant or the lecturer.\n",
    "\n",
    "Let $A$ be any invertible $n\\times n$-matrix. Suppose that $\\delta A$ is the smallest possible matrix, measured in a subordinate (natural) matrix norm $\\|\\cdot\\|$ such that $A+\\delta A$ is singular. Show that\n",
    "\n",
    "$$\n",
    "    \\|\\delta A\\|  = \\|A^{-1}\\|^{-1}\n",
    "$$\n",
    "\n",
    "\n"
   ]
  }
 ],
 "metadata": {
  "kernelspec": {
   "display_name": "Python 3",
   "language": "python",
   "name": "python3"
  },
  "language_info": {
   "codemirror_mode": {
    "name": "ipython",
    "version": 3
   },
   "file_extension": ".py",
   "mimetype": "text/x-python",
   "name": "python",
   "nbconvert_exporter": "python",
   "pygments_lexer": "ipython3",
   "version": "3.7.6"
  }
 },
 "nbformat": 4,
 "nbformat_minor": 2
}